{
  "cells": [
    {
      "cell_type": "code",
      "execution_count": null,
      "metadata": {
        "id": "wlIxJTRLq4JQ"
      },
      "outputs": [],
      "source": [
        "import os\n",
        "import tensorflow as tf\n",
        "from Bio import SeqIO"
      ]
    },
    {
      "cell_type": "code",
      "execution_count": null,
      "metadata": {
        "id": "v5tHHYGnBGdx"
      },
      "outputs": [],
      "source": [
        "import sys\n",
        "sys.path.insert(0,'') # folder path"
      ]
    },
    {
      "cell_type": "code",
      "execution_count": null,
      "metadata": {
        "id": "2gUrgA3aCgEq"
      },
      "outputs": [],
      "source": [
        "from Funcs import generate_rdkit_descriptors, \\\n",
        "    SeQuant_encoding, \\\n",
        "    generate_latent_representations, \\\n",
        "    filter_sequences"
      ]
    },
    {
      "cell_type": "code",
      "execution_count": null,
      "metadata": {
        "id": "c7joBo6ppk5A",
        "pycharm": {
          "name": "#%%\n"
        }
      },
      "outputs": [],
      "source": [
        "max_peptide_length = 96"
      ]
    },
    {
      "cell_type": "code",
      "execution_count": null,
      "metadata": {
        "id": "QKqKKcOaCnNW"
      },
      "outputs": [],
      "source": [
        "with open(\n",
        "          \"\", #new file path (.txt)\n",
        "          \"w\") as f:\n",
        "                    for seq_record in SeqIO.parse(\n",
        "                                                  \"\", #your sequences file path (.fasta)\n",
        "                                                  \"fasta\"):\n",
        "                                                           f.write(str(seq_record.seq) + \"\\n\")"
      ]
    },
    {
      "cell_type": "code",
      "execution_count": null,
      "metadata": {
        "id": "2JcFRqJ_Cz21"
      },
      "outputs": [],
      "source": [
        "with open('') as f:  #new file path (.txt)\n",
        "    raw_seqs = f.readlines()\n",
        "data = [s.replace(\"\\n\", \"\") for s in raw_seqs]"
      ]
    },
    {
      "cell_type": "code",
      "execution_count": null,
      "metadata": {
        "id": "SURyWCk_pk5A",
        "pycharm": {
          "name": "#%%\n"
        }
      },
      "outputs": [],
      "source": [
        "# filter raw data by max peptide length and drop sequences with unknown symbols in it\n",
        "\n",
        "seq_list = filter_sequences(data)"
      ]
    },
    {
      "cell_type": "code",
      "execution_count": null,
      "metadata": {
        "id": "_HV6MyX3KYVr"
      },
      "outputs": [],
      "source": [
        "descriptors_set = generate_rdkit_descriptors()"
      ]
    },
    {
      "cell_type": "code",
      "execution_count": null,
      "metadata": {
        "id": "HD03Fh2Mpk5B",
        "pycharm": {
          "is_executing": true,
          "name": "#%%\n"
        }
      },
      "outputs": [],
      "source": [
        "encoded_sequences = SeQuant_encoding(sequences_list=seq_list,\n",
        "                                     descriptors=descriptors_set,\n",
        "                                     num=max_peptide_length)"
      ]
    },
    {
      "cell_type": "code",
      "execution_count": null,
      "metadata": {
        "id": "cEEbMASfpk5B",
        "pycharm": {
          "name": "#%%\n"
        }
      },
      "outputs": [],
      "source": [
        "dirname = os.getcwd()\n",
        "path = os.path.join(dirname, 'trained_model')\n",
        "\n",
        "trained_model = tf.keras.models.load_model(path)"
      ]
    },
    {
      "cell_type": "code",
      "execution_count": null,
      "metadata": {
        "id": "VITaqwygpk5B",
        "pycharm": {
          "is_executing": true,
          "name": "#%%\n"
        }
      },
      "outputs": [],
      "source": [
        "X, descriptor_names = generate_latent_representations(\n",
        "                                                        sequences_list = seq_list\n",
        "                                                      , sequant_encoded_sequences=encoded_sequences\n",
        "                                                      , trained_model=trained_model\n",
        "                                                      , add_peptide_descriptors=True\n",
        "                                                                                     )"
      ]
    },
    {
      "cell_type": "code",
      "execution_count": null,
      "metadata": {
        "id": "seJCOFucpk5C",
        "pycharm": {
          "name": "#%%\n"
        }
      },
      "outputs": [],
      "source": [
        "all_descriptor_names = list(descriptors_set.columns) + descriptor_names"
      ]
    }
  ],
  "metadata": {
    "colab": {
      "collapsed_sections": [],
      "provenance": []
    },
    "kernelspec": {
      "display_name": "Python 3",
      "language": "python",
      "name": "python3"
    },
    "language_info": {
      "codemirror_mode": {
        "name": "ipython",
        "version": 2
      },
      "file_extension": ".py",
      "mimetype": "text/x-python",
      "name": "python",
      "nbconvert_exporter": "python",
      "pygments_lexer": "ipython2",
      "version": "2.7.6"
    }
  },
  "nbformat": 4,
  "nbformat_minor": 0
}
